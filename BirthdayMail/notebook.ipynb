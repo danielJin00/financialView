{
 "cells": [
  {
   "cell_type": "code",
   "execution_count": 32,
   "metadata": {},
   "outputs": [
    {
     "name": "stdout",
     "output_type": "stream",
     "text": [
      "     Name        Date\n",
      "0  Celine  18.11.2002\n",
      "1    Papa   22.4.1966\n",
      "2    Mama   24.4.1965\n",
      "3   Rongi    2.3.2000\n"
     ]
    }
   ],
   "source": [
    "import pandas as pd\n",
    "import numpy as np\n",
    "\n",
    "df = pd.read_csv(\"Birthdaydata.csv\")\n",
    "\n",
    "print(df)"
   ]
  },
  {
   "cell_type": "code",
   "execution_count": null,
   "metadata": {},
   "outputs": [],
   "source": []
  },
  {
   "cell_type": "code",
   "execution_count": 33,
   "metadata": {},
   "outputs": [
    {
     "name": "stdout",
     "output_type": "stream",
     "text": [
      "['18.11.2002', '22.4.1966', '24.4.1965', '2.3.2000'] \n",
      "\n",
      "[['18.11', '2002'], ['22.4', '1966'], ['24.4', '1965'], ['2.3', '2000']]\n"
     ]
    }
   ],
   "source": [
    "dates = df['Date'].tolist()\n",
    "print(dates,\"\\n\") \n",
    "\n",
    "new_dates = []\n",
    "for date in dates:\n",
    "    temp = date.rsplit(\".\",1)\n",
    "    new_dates.append(temp)\n",
    "print(new_dates)\n"
   ]
  },
  {
   "cell_type": "code",
   "execution_count": 34,
   "metadata": {},
   "outputs": [
    {
     "name": "stdout",
     "output_type": "stream",
     "text": [
      "18.11\n",
      "22.4\n",
      "24.4\n",
      "2.3\n",
      "[['18.11', '2002']]\n"
     ]
    }
   ],
   "source": [
    "todaysbirthday = []\n",
    "\n",
    "for i in new_dates:\n",
    "    print(i[0])\n",
    "    if i[0] == \"18.11\":\n",
    "        todaysbirthday.append(i)\n",
    "        \n",
    "print(todaysbirthday)"
   ]
  }
 ],
 "metadata": {
  "kernelspec": {
   "display_name": "Python 3.10.4 64-bit",
   "language": "python",
   "name": "python3"
  },
  "language_info": {
   "codemirror_mode": {
    "name": "ipython",
    "version": 3
   },
   "file_extension": ".py",
   "mimetype": "text/x-python",
   "name": "python",
   "nbconvert_exporter": "python",
   "pygments_lexer": "ipython3",
   "version": "3.10.4"
  },
  "orig_nbformat": 4,
  "vscode": {
   "interpreter": {
    "hash": "916dbcbb3f70747c44a77c7bcd40155683ae19c65e1c03b4aa3499c5328201f1"
   }
  }
 },
 "nbformat": 4,
 "nbformat_minor": 2
}
